{
 "cells": [
  {
   "cell_type": "code",
   "execution_count": null,
   "metadata": {
    "application/vnd.databricks.v1+cell": {
     "cellMetadata": {
      "byteLimit": 2048000,
      "rowLimit": 10000
     },
     "inputWidgets": {},
     "nuid": "cfa05686-88f8-4611-944c-a56f99198f83",
     "showTitle": false,
     "tableResultSettingsMap": {},
     "title": ""
    }
   },
   "outputs": [],
   "source": [
    "from pyspark.sql import SparkSession"
   ]
  },
  {
   "cell_type": "markdown",
   "metadata": {
    "application/vnd.databricks.v1+cell": {
     "cellMetadata": {},
     "inputWidgets": {},
     "nuid": "48645a19-1d14-46b8-bd38-66684a3c231d",
     "showTitle": false,
     "tableResultSettingsMap": {},
     "title": ""
    }
   },
   "source": [
    "Loading MovieLens Data"
   ]
  },
  {
   "cell_type": "markdown",
   "metadata": {
    "application/vnd.databricks.v1+cell": {
     "cellMetadata": {},
     "inputWidgets": {},
     "nuid": "a6f969d3-d56d-4247-be1e-cbc762b88761",
     "showTitle": false,
     "tableResultSettingsMap": {},
     "title": ""
    }
   },
   "source": [
    "File uploaded to /FileStore/tables/links-3.csv\n",
    "File uploaded to /FileStore/tables/movies-3.csv\n",
    "File uploaded to /FileStore/tables/tags-3.csv\n",
    "File uploaded to /FileStore/tables/ratings-3.csv\n"
   ]
  },
  {
   "cell_type": "code",
   "execution_count": null,
   "metadata": {
    "application/vnd.databricks.v1+cell": {
     "cellMetadata": {
      "byteLimit": 2048000,
      "rowLimit": 10000
     },
     "inputWidgets": {},
     "nuid": "c46ac489-acfd-4bfa-aa5c-f0d5672d3e05",
     "showTitle": false,
     "tableResultSettingsMap": {},
     "title": ""
    }
   },
   "outputs": [],
   "source": [
    "movies_df = spark.read.csv(\"/FileStore/tables/movies-3.csv\", header=True, inferSchema=True)\n",
    "ratings_df = spark.read.csv(\"/FileStore/tables/ratings-3.csv\", header=True, inferSchema=True)\n",
    "tags_df = spark.read.csv(\"/FileStore/tables/tags-3.csv\", header=True, inferSchema=True)\n",
    "links_df = spark.read.csv(\"/FileStore/tables/links-3.csv\", header=True, inferSchema=True)\n"
   ]
  },
  {
   "cell_type": "markdown",
   "metadata": {
    "application/vnd.databricks.v1+cell": {
     "cellMetadata": {},
     "inputWidgets": {},
     "nuid": "a0891f0d-5585-41bb-8bfc-5eb8df3c9a60",
     "showTitle": false,
     "tableResultSettingsMap": {},
     "title": ""
    }
   },
   "source": [
    " Show first 5 rows of each dataset"
   ]
  },
  {
   "cell_type": "code",
   "execution_count": null,
   "metadata": {
    "application/vnd.databricks.v1+cell": {
     "cellMetadata": {
      "byteLimit": 2048000,
      "rowLimit": 10000
     },
     "inputWidgets": {},
     "nuid": "22e8dccc-4ca4-4464-8cdb-8f11a8958be7",
     "showTitle": false,
     "tableResultSettingsMap": {},
     "title": ""
    }
   },
   "outputs": [
    {
     "name": "stdout",
     "output_type": "stream",
     "text": [
      "Movies DataFrame:\n",
      "+-------+--------------------+--------------------+\n",
      "|movieId|               title|              genres|\n",
      "+-------+--------------------+--------------------+\n",
      "|      1|    Toy Story (1995)|Adventure|Animati...|\n",
      "|      2|      Jumanji (1995)|Adventure|Childre...|\n",
      "|      3|Grumpier Old Men ...|      Comedy|Romance|\n",
      "|      4|Waiting to Exhale...|Comedy|Drama|Romance|\n",
      "|      5|Father of the Bri...|              Comedy|\n",
      "+-------+--------------------+--------------------+\n",
      "only showing top 5 rows\n",
      "Ratings DataFrame:\n",
      "+------+-------+------+---------+\n",
      "|userId|movieId|rating|timestamp|\n",
      "+------+-------+------+---------+\n",
      "|     1|      1|   4.0|964982703|\n",
      "|     1|      3|   4.0|964981247|\n",
      "|     1|      6|   4.0|964982224|\n",
      "|     1|     47|   5.0|964983815|\n",
      "|     1|     50|   5.0|964982931|\n",
      "+------+-------+------+---------+\n",
      "only showing top 5 rows\n",
      "Tags DataFrame:\n",
      "+------+-------+---------------+----------+\n",
      "|userId|movieId|            tag| timestamp|\n",
      "+------+-------+---------------+----------+\n",
      "|     2|  60756|          funny|1445714994|\n",
      "|     2|  60756|Highly quotable|1445714996|\n",
      "|     2|  60756|   will ferrell|1445714992|\n",
      "|     2|  89774|   Boxing story|1445715207|\n",
      "|     2|  89774|            MMA|1445715200|\n",
      "+------+-------+---------------+----------+\n",
      "only showing top 5 rows\n",
      "Links DataFrame:\n",
      "+-------+------+------+\n",
      "|movieId|imdbId|tmdbId|\n",
      "+-------+------+------+\n",
      "|      1|114709|   862|\n",
      "|      2|113497|  8844|\n",
      "|      3|113228| 15602|\n",
      "|      4|114885| 31357|\n",
      "|      5|113041| 11862|\n",
      "+-------+------+------+\n",
      "only showing top 5 rows\n"
     ]
    }
   ],
   "source": [
    "\n",
    "print(\"Movies DataFrame:\")\n",
    "movies_df.show(5)\n",
    "\n",
    "print(\"Ratings DataFrame:\")\n",
    "ratings_df.show(5)\n",
    "\n",
    "print(\"Tags DataFrame:\")\n",
    "tags_df.show(5)\n",
    "\n",
    "print(\"Links DataFrame:\")\n",
    "links_df.show(5)\n"
   ]
  },
  {
   "cell_type": "code",
   "execution_count": null,
   "metadata": {
    "application/vnd.databricks.v1+cell": {
     "cellMetadata": {},
     "inputWidgets": {},
     "nuid": "b50271cd-a9d4-41d9-b0cd-0de604030fd7",
     "showTitle": false,
     "tableResultSettingsMap": {},
     "title": ""
    }
   },
   "outputs": [],
   "source": [
    "Handle Missing Values"
   ]
  },
  {
   "cell_type": "code",
   "execution_count": null,
   "metadata": {
    "application/vnd.databricks.v1+cell": {
     "cellMetadata": {
      "byteLimit": 2048000,
      "rowLimit": 10000
     },
     "inputWidgets": {},
     "nuid": "f269e05c-459d-4ce2-b3e2-c7c96a38a581",
     "showTitle": false,
     "tableResultSettingsMap": {},
     "title": ""
    }
   },
   "outputs": [
    {
     "name": "stdout",
     "output_type": "stream",
     "text": [
      "Missing values in movies_df:\n",
      "+-------+-----+------+\n",
      "|movieId|title|genres|\n",
      "+-------+-----+------+\n",
      "|  false|false| false|\n",
      "|  false|false| false|\n",
      "|  false|false| false|\n",
      "|  false|false| false|\n",
      "|  false|false| false|\n",
      "|  false|false| false|\n",
      "|  false|false| false|\n",
      "|  false|false| false|\n",
      "|  false|false| false|\n",
      "|  false|false| false|\n",
      "|  false|false| false|\n",
      "|  false|false| false|\n",
      "|  false|false| false|\n",
      "|  false|false| false|\n",
      "|  false|false| false|\n",
      "|  false|false| false|\n",
      "|  false|false| false|\n",
      "|  false|false| false|\n",
      "|  false|false| false|\n",
      "|  false|false| false|\n",
      "+-------+-----+------+\n",
      "only showing top 20 rows\n",
      "Missing values in ratings_df:\n",
      "+------+-------+------+---------+\n",
      "|userId|movieId|rating|timestamp|\n",
      "+------+-------+------+---------+\n",
      "| false|  false| false|    false|\n",
      "| false|  false| false|    false|\n",
      "| false|  false| false|    false|\n",
      "| false|  false| false|    false|\n",
      "| false|  false| false|    false|\n",
      "| false|  false| false|    false|\n",
      "| false|  false| false|    false|\n",
      "| false|  false| false|    false|\n",
      "| false|  false| false|    false|\n",
      "| false|  false| false|    false|\n",
      "| false|  false| false|    false|\n",
      "| false|  false| false|    false|\n",
      "| false|  false| false|    false|\n",
      "| false|  false| false|    false|\n",
      "| false|  false| false|    false|\n",
      "| false|  false| false|    false|\n",
      "| false|  false| false|    false|\n",
      "| false|  false| false|    false|\n",
      "| false|  false| false|    false|\n",
      "| false|  false| false|    false|\n",
      "+------+-------+------+---------+\n",
      "only showing top 20 rows\n",
      "Missing values in tags_df:\n",
      "+------+-------+-----+---------+\n",
      "|userId|movieId|  tag|timestamp|\n",
      "+------+-------+-----+---------+\n",
      "| false|  false|false|    false|\n",
      "| false|  false|false|    false|\n",
      "| false|  false|false|    false|\n",
      "| false|  false|false|    false|\n",
      "| false|  false|false|    false|\n",
      "| false|  false|false|    false|\n",
      "| false|  false|false|    false|\n",
      "| false|  false|false|    false|\n",
      "| false|  false|false|    false|\n",
      "| false|  false|false|    false|\n",
      "| false|  false|false|    false|\n",
      "| false|  false|false|    false|\n",
      "| false|  false|false|    false|\n",
      "| false|  false|false|    false|\n",
      "| false|  false|false|    false|\n",
      "| false|  false|false|    false|\n",
      "| false|  false|false|    false|\n",
      "| false|  false|false|    false|\n",
      "| false|  false|false|    false|\n",
      "| false|  false|false|    false|\n",
      "+------+-------+-----+---------+\n",
      "only showing top 20 rows\n",
      "Missing values in links_df:\n",
      "+-------+------+------+\n",
      "|movieId|imdbId|tmdbId|\n",
      "+-------+------+------+\n",
      "|  false| false| false|\n",
      "|  false| false| false|\n",
      "|  false| false| false|\n",
      "|  false| false| false|\n",
      "|  false| false| false|\n",
      "|  false| false| false|\n",
      "|  false| false| false|\n",
      "|  false| false| false|\n",
      "|  false| false| false|\n",
      "|  false| false| false|\n",
      "|  false| false| false|\n",
      "|  false| false| false|\n",
      "|  false| false| false|\n",
      "|  false| false| false|\n",
      "|  false| false| false|\n",
      "|  false| false| false|\n",
      "|  false| false| false|\n",
      "|  false| false| false|\n",
      "|  false| false| false|\n",
      "|  false| false| false|\n",
      "+-------+------+------+\n",
      "only showing top 20 rows\n"
     ]
    }
   ],
   "source": [
    "from pyspark.sql.functions import col\n",
    "\n",
    "def check_missing_values(df, name):\n",
    "    print(f\"Missing values in {name}:\")\n",
    "    df.select([col(c).isNull().alias(c) for c in df.columns]).show()\n",
    "\n",
    "check_missing_values(movies_df, \"movies_df\")\n",
    "check_missing_values(ratings_df, \"ratings_df\")\n",
    "check_missing_values(tags_df, \"tags_df\")\n",
    "check_missing_values(links_df, \"links_df\")\n"
   ]
  },
  {
   "cell_type": "markdown",
   "metadata": {
    "application/vnd.databricks.v1+cell": {
     "cellMetadata": {},
     "inputWidgets": {},
     "nuid": "84d2cea0-5004-4390-9457-0e933a8d8bf4",
     "showTitle": false,
     "tableResultSettingsMap": {},
     "title": ""
    }
   },
   "source": [
    "Remove Rows with Missing Data"
   ]
  },
  {
   "cell_type": "code",
   "execution_count": null,
   "metadata": {
    "application/vnd.databricks.v1+cell": {
     "cellMetadata": {},
     "inputWidgets": {},
     "nuid": "062af717-157c-49de-be5f-2b9d09d8c5c0",
     "showTitle": false,
     "tableResultSettingsMap": {},
     "title": ""
    }
   },
   "outputs": [],
   "source": []
  },
  {
   "cell_type": "code",
   "execution_count": null,
   "metadata": {
    "application/vnd.databricks.v1+cell": {
     "cellMetadata": {
      "byteLimit": 2048000,
      "rowLimit": 10000
     },
     "inputWidgets": {},
     "nuid": "de1ac68b-6a42-4f3e-81bc-3dff15439b7a",
     "showTitle": false,
     "tableResultSettingsMap": {},
     "title": ""
    }
   },
   "outputs": [],
   "source": [
    "movies_df = movies_df.dropna(subset=[\"title\", \"genres\"])\n",
    "ratings_df = ratings_df.dropna(subset=[\"userId\", \"movieId\", \"rating\"])\n",
    "tags_df = tags_df.dropna(subset=[\"userId\", \"movieId\", \"tag\"])\n",
    "links_df = links_df.dropna(subset=[\"movieId\", \"imdbId\", \"tmdbId\"])\n"
   ]
  },
  {
   "cell_type": "markdown",
   "metadata": {
    "application/vnd.databricks.v1+cell": {
     "cellMetadata": {},
     "inputWidgets": {},
     "nuid": "98f77112-07a2-48b6-9384-48502a068221",
     "showTitle": false,
     "tableResultSettingsMap": {},
     "title": ""
    }
   },
   "source": [
    "Remove Duplicate Data\n",
    "\n"
   ]
  },
  {
   "cell_type": "code",
   "execution_count": null,
   "metadata": {
    "application/vnd.databricks.v1+cell": {
     "cellMetadata": {
      "byteLimit": 2048000,
      "rowLimit": 10000
     },
     "inputWidgets": {},
     "nuid": "9d6b6066-ee43-4ed2-8d44-7e1c70fa565f",
     "showTitle": false,
     "tableResultSettingsMap": {},
     "title": ""
    }
   },
   "outputs": [],
   "source": [
    "movies_df = movies_df.dropDuplicates()\n",
    "ratings_df = ratings_df.dropDuplicates()\n",
    "tags_df = tags_df.dropDuplicates()\n",
    "links_df = links_df.dropDuplicates()\n"
   ]
  },
  {
   "cell_type": "markdown",
   "metadata": {
    "application/vnd.databricks.v1+cell": {
     "cellMetadata": {},
     "inputWidgets": {},
     "nuid": "4b1b8a1d-d170-4435-8fa0-c76c303cc95d",
     "showTitle": false,
     "tableResultSettingsMap": {},
     "title": ""
    }
   },
   "source": [
    "Fix Incorrect Data Types"
   ]
  },
  {
   "cell_type": "code",
   "execution_count": null,
   "metadata": {
    "application/vnd.databricks.v1+cell": {
     "cellMetadata": {
      "byteLimit": 2048000,
      "rowLimit": 10000
     },
     "inputWidgets": {},
     "nuid": "ffee33b4-9527-4c03-8c0d-9c773c2b6297",
     "showTitle": false,
     "tableResultSettingsMap": {},
     "title": ""
    }
   },
   "outputs": [
    {
     "name": "stdout",
     "output_type": "stream",
     "text": [
      "root\n",
      " |-- movieId: integer (nullable = true)\n",
      " |-- title: string (nullable = true)\n",
      " |-- genres: string (nullable = true)\n",
      "\n",
      "root\n",
      " |-- userId: integer (nullable = true)\n",
      " |-- movieId: integer (nullable = true)\n",
      " |-- rating: double (nullable = true)\n",
      " |-- timestamp: integer (nullable = true)\n",
      "\n",
      "root\n",
      " |-- userId: integer (nullable = true)\n",
      " |-- movieId: integer (nullable = true)\n",
      " |-- tag: string (nullable = true)\n",
      " |-- timestamp: integer (nullable = true)\n",
      "\n",
      "root\n",
      " |-- movieId: integer (nullable = true)\n",
      " |-- imdbId: integer (nullable = true)\n",
      " |-- tmdbId: integer (nullable = true)\n",
      "\n"
     ]
    }
   ],
   "source": [
    "movies_df.printSchema()\n",
    "ratings_df.printSchema()\n",
    "tags_df.printSchema()\n",
    "links_df.printSchema()\n"
   ]
  },
  {
   "cell_type": "markdown",
   "metadata": {
    "application/vnd.databricks.v1+cell": {
     "cellMetadata": {},
     "inputWidgets": {},
     "nuid": "2936bbea-8610-48b0-8aba-872838283115",
     "showTitle": false,
     "tableResultSettingsMap": {},
     "title": ""
    }
   },
   "source": [
    "Convert Columns to Correct Data Types"
   ]
  },
  {
   "cell_type": "code",
   "execution_count": null,
   "metadata": {
    "application/vnd.databricks.v1+cell": {
     "cellMetadata": {
      "byteLimit": 2048000,
      "rowLimit": 10000
     },
     "inputWidgets": {},
     "nuid": "370c3cf3-de1b-49cb-a18d-6d92f5ee35f3",
     "showTitle": false,
     "tableResultSettingsMap": {},
     "title": ""
    }
   },
   "outputs": [],
   "source": [
    "from pyspark.sql.types import IntegerType, DoubleType\n",
    "\n",
    "ratings_df = ratings_df.withColumn(\"userId\", col(\"userId\").cast(IntegerType())) \\\n",
    "                       .withColumn(\"movieId\", col(\"movieId\").cast(IntegerType())) \\\n",
    "                       .withColumn(\"rating\", col(\"rating\").cast(DoubleType()))\n",
    "\n",
    "links_df = links_df.withColumn(\"movieId\", col(\"movieId\").cast(IntegerType())) \\\n",
    "                   .withColumn(\"imdbId\", col(\"imdbId\").cast(IntegerType())) \\\n",
    "                   .withColumn(\"tmdbId\", col(\"tmdbId\").cast(IntegerType()))"
   ]
  },
  {
   "cell_type": "markdown",
   "metadata": {
    "application/vnd.databricks.v1+cell": {
     "cellMetadata": {},
     "inputWidgets": {},
     "nuid": "8e8ba6f8-c08b-4666-aee8-3c90a2ac8810",
     "showTitle": false,
     "tableResultSettingsMap": {},
     "title": ""
    }
   },
   "source": [
    "Detect & Remove Outliers\n"
   ]
  },
  {
   "cell_type": "code",
   "execution_count": null,
   "metadata": {
    "application/vnd.databricks.v1+cell": {
     "cellMetadata": {
      "byteLimit": 2048000,
      "rowLimit": 10000
     },
     "inputWidgets": {},
     "nuid": "707df69f-1e9b-4c18-9746-04bd0173e174",
     "showTitle": false,
     "tableResultSettingsMap": {},
     "title": ""
    }
   },
   "outputs": [],
   "source": [
    "from pyspark.sql.functions import mean, stddev\n",
    "\n",
    "stats = ratings_df.select(mean(col(\"rating\")).alias(\"mean\"), stddev(col(\"rating\")).alias(\"stddev\")).collect()[0]\n",
    "mean_rating = stats[\"mean\"]\n",
    "stddev_rating = stats[\"stddev\"]\n",
    "\n",
    "ratings_df = ratings_df.filter((col(\"rating\") >= mean_rating - 3 * stddev_rating) & \n",
    "                               (col(\"rating\") <= mean_rating + 3 * stddev_rating))\n"
   ]
  },
  {
   "cell_type": "markdown",
   "metadata": {
    "application/vnd.databricks.v1+cell": {
     "cellMetadata": {},
     "inputWidgets": {},
     "nuid": "0ce7afab-da45-4303-b383-353d665b5911",
     "showTitle": false,
     "tableResultSettingsMap": {},
     "title": ""
    }
   },
   "source": [
    "Correct Spelling "
   ]
  },
  {
   "cell_type": "code",
   "execution_count": null,
   "metadata": {
    "application/vnd.databricks.v1+cell": {
     "cellMetadata": {
      "byteLimit": 2048000,
      "rowLimit": 10000
     },
     "inputWidgets": {},
     "nuid": "fc421e66-f896-437e-a462-bea6d34bed0c",
     "showTitle": false,
     "tableResultSettingsMap": {},
     "title": ""
    }
   },
   "outputs": [],
   "source": [
    "from pyspark.sql.functions import lower, trim\n",
    "\n",
    "movies_df = movies_df.withColumn(\"title\", trim(lower(col(\"title\"))))\n",
    "tags_df = tags_df.withColumn(\"tag\", trim(lower(col(\"tag\"))))\n"
   ]
  },
  {
   "cell_type": "markdown",
   "metadata": {
    "application/vnd.databricks.v1+cell": {
     "cellMetadata": {},
     "inputWidgets": {},
     "nuid": "49622755-b60e-492a-9afc-b0220fc41d1f",
     "showTitle": false,
     "tableResultSettingsMap": {},
     "title": ""
    }
   },
   "source": [
    "Validate Cleaned Data"
   ]
  },
  {
   "cell_type": "code",
   "execution_count": null,
   "metadata": {
    "application/vnd.databricks.v1+cell": {
     "cellMetadata": {
      "byteLimit": 2048000,
      "rowLimit": 10000
     },
     "inputWidgets": {},
     "nuid": "84c81d8e-b24c-43a7-b534-e3416e7c7c40",
     "showTitle": false,
     "tableResultSettingsMap": {},
     "title": ""
    }
   },
   "outputs": [
    {
     "name": "stdout",
     "output_type": "stream",
     "text": [
      "+-------+--------------------+--------------------+\n",
      "|movieId|               title|              genres|\n",
      "+-------+--------------------+--------------------+\n",
      "|      4|waiting to exhale...|Comedy|Drama|Romance|\n",
      "|      5|father of the bri...|              Comedy|\n",
      "|      3|grumpier old men ...|      Comedy|Romance|\n",
      "|      2|      jumanji (1995)|Adventure|Childre...|\n",
      "|      6|         heat (1995)|Action|Crime|Thri...|\n",
      "+-------+--------------------+--------------------+\n",
      "only showing top 5 rows\n",
      "+-------+------------------+-----------------+------------------+--------------------+\n",
      "|summary|            userId|          movieId|            rating|           timestamp|\n",
      "+-------+------------------+-----------------+------------------+--------------------+\n",
      "|  count|            100836|           100836|            100836|              100836|\n",
      "|   mean|326.12756356856676| 19435.2957177992| 3.501556983616962|1.2059460873684695E9|\n",
      "| stddev|182.61849146349994|35530.98719870024|1.0425292390606402|2.1626103599513122E8|\n",
      "|    min|                 1|                1|               0.5|           828124615|\n",
      "|    max|               610|           193609|               5.0|          1537799250|\n",
      "+-------+------------------+-----------------+------------------+--------------------+\n",
      "\n",
      "+------+-------+---------------+----------+\n",
      "|userId|movieId|            tag| timestamp|\n",
      "+------+-------+---------------+----------+\n",
      "|     2|  60756|          funny|1445714994|\n",
      "|     2|  60756|   will ferrell|1445714992|\n",
      "|     2|  89774|            mma|1445715200|\n",
      "|     2|  89774|      tom hardy|1445715205|\n",
      "|     2|  60756|highly quotable|1445714996|\n",
      "+------+-------+---------------+----------+\n",
      "only showing top 5 rows\n",
      "+-------+------+------+\n",
      "|movieId|imdbId|tmdbId|\n",
      "+-------+------+------+\n",
      "|      5|113041| 11862|\n",
      "|      6|113277|   949|\n",
      "|      4|114885| 31357|\n",
      "|      3|113228| 15602|\n",
      "|      2|113497|  8844|\n",
      "+-------+------+------+\n",
      "only showing top 5 rows\n"
     ]
    }
   ],
   "source": [
    "movies_df.show(5)\n",
    "ratings_df.describe().show()\n",
    "tags_df.show(5)\n",
    "links_df.show(5)\n"
   ]
  },
  {
   "cell_type": "markdown",
   "metadata": {
    "application/vnd.databricks.v1+cell": {
     "cellMetadata": {},
     "inputWidgets": {},
     "nuid": "3d213f5e-a849-4c6a-b8d6-0f1e23c70b18",
     "showTitle": false,
     "tableResultSettingsMap": {},
     "title": ""
    }
   },
   "source": [
    "Converting Timestamp to Readable Format"
   ]
  },
  {
   "cell_type": "code",
   "execution_count": null,
   "metadata": {
    "application/vnd.databricks.v1+cell": {
     "cellMetadata": {
      "byteLimit": 2048000,
      "rowLimit": 10000
     },
     "inputWidgets": {},
     "nuid": "5fdda6da-02b7-4d33-96d3-4d9f2dc25e93",
     "showTitle": false,
     "tableResultSettingsMap": {},
     "title": ""
    }
   },
   "outputs": [
    {
     "name": "stdout",
     "output_type": "stream",
     "text": [
      "+------+-------+------+-------------------+\n",
      "|userId|movieId|rating|          timestamp|\n",
      "+------+-------+------+-------------------+\n",
      "|     1|     50|   5.0|2000-07-30 18:48:51|\n",
      "|     1|      3|   4.0|2000-07-30 18:20:47|\n",
      "|     1|      1|   4.0|2000-07-30 18:45:03|\n",
      "|     1|     70|   3.0|2000-07-30 18:40:00|\n",
      "|     1|      6|   4.0|2000-07-30 18:37:04|\n",
      "+------+-------+------+-------------------+\n",
      "only showing top 5 rows\n"
     ]
    }
   ],
   "source": [
    "from pyspark.sql.functions import from_unixtime\n",
    "\n",
    "ratings_df = ratings_df.withColumn(\"timestamp\", from_unixtime(ratings_df.timestamp))\n",
    "ratings_df.show(5)"
   ]
  },
  {
   "cell_type": "markdown",
   "metadata": {
    "application/vnd.databricks.v1+cell": {
     "cellMetadata": {},
     "inputWidgets": {},
     "nuid": "329036ff-87a3-4634-98c6-c048344f33c8",
     "showTitle": false,
     "tableResultSettingsMap": {},
     "title": ""
    }
   },
   "source": [
    "Save Cleaned Data "
   ]
  },
  {
   "cell_type": "code",
   "execution_count": null,
   "metadata": {
    "application/vnd.databricks.v1+cell": {
     "cellMetadata": {
      "byteLimit": 2048000,
      "rowLimit": 10000
     },
     "inputWidgets": {},
     "nuid": "63d0748b-dd1e-4c73-bfe6-69857fe88ff3",
     "showTitle": false,
     "tableResultSettingsMap": {},
     "title": ""
    }
   },
   "outputs": [],
   "source": [
    "movies_df.write.format(\"delta\").mode(\"overwrite\").saveAsTable(\"cleaned_movies\")\n",
    "ratings_df.write.format(\"delta\").mode(\"overwrite\").saveAsTable(\"cleaned_ratings\")\n",
    "tags_df.write.format(\"delta\").mode(\"overwrite\").saveAsTable(\"cleaned_tags\")\n",
    "links_df.write.format(\"delta\").mode(\"overwrite\").saveAsTable(\"cleaned_links\")\n"
   ]
  }
 ],
 "metadata": {
  "application/vnd.databricks.v1+notebook": {
   "computePreferences": null,
   "dashboards": [],
   "environmentMetadata": {
    "base_environment": "",
    "environment_version": "2"
   },
   "inputWidgetPreferences": null,
   "language": "python",
   "notebookMetadata": {
    "pythonIndentUnit": 4
   },
   "notebookName": "Movies_analysis",
   "widgets": {}
  },
  "language_info": {
   "name": "python"
  }
 },
 "nbformat": 4,
 "nbformat_minor": 0
}
