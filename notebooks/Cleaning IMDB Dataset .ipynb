{
 "cells": [
  {
   "cell_type": "code",
   "execution_count": 0,
   "metadata": {
    "application/vnd.databricks.v1+cell": {
     "cellMetadata": {
      "byteLimit": 2048000,
      "rowLimit": 10000
     },
     "inputWidgets": {},
     "nuid": "f0c747ae-9e78-45bc-a80f-e230d5e20026",
     "showTitle": false,
     "tableResultSettingsMap": {},
     "title": ""
    }
   },
   "outputs": [
    {
     "output_type": "stream",
     "name": "stdout",
     "output_type": "stream",
     "text": [
      "+-------------------------------------------+---------+------+-------------+--------+\n|primaryTitle                               |startYear|genres|averageRating|numVotes|\n+-------------------------------------------+---------+------+-------------+--------+\n|Hamlet                                     |1908     |Drama |3.2          |33      |\n|Don Quijote                                |1908     |Drama |4.3          |23      |\n|Faldgruben                                 |1909     |\\N    |4.5          |19      |\n|Locura de amor                             |1909     |Drama |4.6          |30      |\n|Hamlet                                     |1910     |Drama |3.9          |53      |\n|Orientalsk dans                            |1910     |\\N    |4.0          |13      |\n|Captain Starlight, or Gentleman of the Road|1911     |\\N    |4.6          |16      |\n|The Infant at Snakeville                   |1911     |\\N    |5.0          |20      |\n|Les Misérables, Part 1: Jean Valjean       |1913     |Drama |6.0          |59      |\n|Oedipus Rex                                |1911     |Drama |5.6          |16      |\n+-------------------------------------------+---------+------+-------------+--------+\nonly showing top 10 rows\n\n"
     ]
    }
   ],
   "source": [
    "# 1. Load the raw IMDb files\n",
    "basics = spark.read.option(\"sep\", \"\\t\").option(\"header\", True).csv(\"/FileStore/tables/title_basics.tsv\")\n",
    "ratings = spark.read.option(\"sep\", \"\\t\").option(\"header\", True).csv(\"/FileStore/tables/title_ratings.tsv\")\n",
    "\n",
    "# 2. Keep only full-length movies and drop rows with missing data\n",
    "from pyspark.sql.functions import col\n",
    "\n",
    "movies_only = basics.filter(col(\"titleType\") == \"movie\") \\\n",
    "                    .dropna(subset=[\"primaryTitle\", \"startYear\", \"genres\"])\n",
    "\n",
    "# 3. Join with ratings and cast rating columns to proper types\n",
    "imdb_clean = movies_only.join(ratings, on=\"tconst\", how=\"inner\") \\\n",
    "    .withColumn(\"averageRating\", col(\"averageRating\").cast(\"float\")) \\\n",
    "    .withColumn(\"numVotes\", col(\"numVotes\").cast(\"int\"))\n",
    "\n",
    "# 4. Optional: Preview the cleaned data\n",
    "imdb_clean.select(\"primaryTitle\", \"startYear\", \"genres\", \"averageRating\", \"numVotes\").show(10, truncate=False)\n",
    "\n"
   ]
  },
  {
   "cell_type": "code",
   "execution_count": 0,
   "metadata": {
    "application/vnd.databricks.v1+cell": {
     "cellMetadata": {
      "byteLimit": 2048000,
      "rowLimit": 10000
     },
     "inputWidgets": {},
     "nuid": "aaa08ca4-8828-478b-98d8-d90a3dd4d1ec",
     "showTitle": false,
     "tableResultSettingsMap": {},
     "title": ""
    }
   },
   "outputs": [],
   "source": [
    "imdb_clean.write.mode(\"overwrite\").option(\"header\", True) \\\n",
    "    .csv(\"/FileStore/moviedata/imdb/cleaned_imdb_data\")\n"
   ]
  },
  {
   "cell_type": "code",
   "execution_count": 0,
   "metadata": {
    "application/vnd.databricks.v1+cell": {
     "cellMetadata": {
      "byteLimit": 2048000,
      "rowLimit": 10000
     },
     "inputWidgets": {},
     "nuid": "8d192aa8-e9c0-466d-ae54-b06f2786b3cb",
     "showTitle": false,
     "tableResultSettingsMap": {},
     "title": ""
    }
   },
   "outputs": [
    {
     "output_type": "stream",
     "name": "stdout",
     "output_type": "stream",
     "text": [
      "Out[53]: True"
     ]
    }
   ],
   "source": [
    "\n",
    "# Rename  part file to a clean name\n",
    "dbutils.fs.cp(\n",
    "  \"dbfs:/FileStore/moviedata/imdb/cleaned_imdb_data/part-00000-tid-5116392208614131044-d2bdc5de-c2cf-4ff6-a851-55ddd9ae2a2e-304-1-c000.csv\",\n",
    "  \"dbfs:/FileStore/cleaned_imdb.csv\"\n",
    ")\n",
    "\n"
   ]
  }
 ],
 "metadata": {
  "application/vnd.databricks.v1+notebook": {
   "computePreferences": null,
   "dashboards": [],
   "environmentMetadata": {
    "base_environment": "",
    "environment_version": "1"
   },
   "inputWidgetPreferences": null,
   "language": "python",
   "notebookMetadata": {
    "mostRecentlyExecutedCommandWithImplicitDF": {
     "commandId": -1,
     "dataframes": [
      "_sqldf"
     ]
    },
    "pythonIndentUnit": 4
   },
   "notebookName": "Cleaning  IMDB  Dataset",
   "widgets": {}
  }
 },
 "nbformat": 4,
 "nbformat_minor": 0
}
